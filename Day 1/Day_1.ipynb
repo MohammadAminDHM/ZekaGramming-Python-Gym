{
  "nbformat": 4,
  "nbformat_minor": 0,
  "metadata": {
    "colab": {
      "provenance": []
    },
    "kernelspec": {
      "name": "python3",
      "display_name": "Python 3"
    },
    "language_info": {
      "name": "python"
    }
  },
  "cells": [
    {
      "cell_type": "markdown",
      "source": [
        "# Triangular Problem(Medium)"
      ],
      "metadata": {
        "id": "LKOSHhZlEy7Z"
      }
    },
    {
      "cell_type": "markdown",
      "source": [
        "**Points :**\n",
        "\n",
        "1. we can use chr for type signs\n",
        "2. use complex number to calcualte abs and ..."
      ],
      "metadata": {
        "id": "phCPrCRoE7f0"
      }
    },
    {
      "cell_type": "code",
      "execution_count": 1,
      "metadata": {
        "colab": {
          "base_uri": "https://localhost:8080/"
        },
        "id": "Q63GEGR0ElPK",
        "outputId": "990aed21-6847-4a53-d4b2-ab0f948f2111"
      },
      "outputs": [
        {
          "output_type": "stream",
          "name": "stdout",
          "text": [
            "10\n",
            "10\n",
            "45°\n"
          ]
        }
      ],
      "source": [
        "from math import asin, degrees\n",
        "\n",
        "def Find_MBC(AB:int, BC:int)->int:\n",
        "    \"\"\"triangle,90 degree at B\n",
        "    Therefore, ABC Angle = 90\n",
        "    Point M is the midpoint of hypotenuse AC.\n",
        "    You are given the lengths AB and BC.\n",
        "    Your task is to find MBC (angle theta, as shown in the figure) in degrees.\"\"\"\n",
        "\n",
        "    return round(degrees(asin(AB/abs(complex(AB, BC)))))\n",
        "\n",
        "if __name__ == \"__main__\":\n",
        "    AB = int(input())\n",
        "    BC = int(input())\n",
        "    print(Find_MBC(AB, BC), chr(176), sep='')"
      ]
    },
    {
      "cell_type": "markdown",
      "source": [
        "# No Idea!(Medium)"
      ],
      "metadata": {
        "id": "GcKLvJJoFSCp"
      }
    },
    {
      "cell_type": "markdown",
      "source": [
        "**Points :**\n",
        "\n",
        "1. `strip` for drop **spaces**\n",
        "2. `sys.stdin.readline()` for give inputs"
      ],
      "metadata": {
        "id": "0tNN_DSDH7PL"
      }
    },
    {
      "cell_type": "code",
      "source": [
        "import sys\n",
        "\n",
        "def main():\n",
        "    h = Happiness()\n",
        "    input = get_input()\n",
        "    m = input[\"m\"]\n",
        "    n = input[\"n\"]\n",
        "    n_array = input[\"n_array\"]\n",
        "    A_set = input[\"A_set\"]\n",
        "    B_set = input[\"B_set\"]\n",
        "    for num in n_array:\n",
        "        if num in A_set:\n",
        "            h.incr()\n",
        "        elif num in B_set:\n",
        "            h.decr()\n",
        "    print(h.val)\n",
        "\n",
        "class Happiness():\n",
        "    def __init__(self):\n",
        "        self.val = 0\n",
        "    def incr(self):\n",
        "        self.val += 1\n",
        "    def decr(self):\n",
        "        self.val -= 1\n",
        "\n",
        "def get_input():\n",
        "    input_m_n     = sys.stdin.readline().strip()\n",
        "    input_n_array = sys.stdin.readline().strip()\n",
        "    input_A_set   = sys.stdin.readline().strip()\n",
        "    input_B_set   = sys.stdin.readline().strip()\n",
        "    m, n          = input_m_n.split(' ')\n",
        "    n_array       = input_n_array.split(' ')\n",
        "    A_set         = set(input_A_set.split(' '))\n",
        "    B_set         = set(input_B_set.split(' '))\n",
        "    result        = {\"m\":m, \"n\":n, \"n_array\": n_array, \"A_set\": A_set, \"B_set\": B_set}\n",
        "    return result\n",
        "\n",
        "if __name__ == '__main__':\n",
        "    main()\n"
      ],
      "metadata": {
        "id": "W6pHhdCkHb1-"
      },
      "execution_count": null,
      "outputs": []
    },
    {
      "cell_type": "markdown",
      "source": [
        "# Maximize it (Hard)"
      ],
      "metadata": {
        "id": "CEeIw7x1K9LA"
      }
    },
    {
      "cell_type": "markdown",
      "source": [
        "**Points :**\n",
        "\n",
        "1. In the terms of Mathematics Cartesian Product of two sets is defined as the set of all ordered pairs (a, b) where a belongs to A and b belongs to B. Consider the below example for better understanding.\n",
        "\n",
        "```\n",
        "Input : arr1 = [1, 2, 3]\n",
        "arr2 = [5, 6, 7]\n",
        "Output : [(1, 5), (1, 6), (1, 7), (2, 5), (2, 6), (2, 7), (3, 5), (3, 6), (3, 7)]\n",
        "Input : arr1 = [10, 12]\n",
        "arr2 = [8, 9, 10]\n",
        "Output : [(10, 8), (10, 9), (10, 10), (12, 8), (12, 9), (12, 10)]\n",
        "```\n",
        "\n",
        "2. map() function returns a map object(which is an iterator) of the results after applying the given function to each item of a given iterable (list, tuple etc.) Syntax :\n",
        "\n",
        " * `map(fun, iter)`\n",
        "\n",
        " * Parameters :\n",
        "\n",
        " fun : It is a function to which map passes each element of given iterable. iter : It is a iterable which is to be mapped.\n",
        "\n",
        "```\n",
        "# Python program to demonstrate working\n",
        "# of map.\n",
        "\n",
        "# Return double of n\n",
        "def addition(n):\n",
        "    return n + n\n",
        "\n",
        "# We double all numbers using map()\n",
        "numbers = (1, 2, 3, 4)\n",
        "result = map(addition, numbers)\n",
        "print(list(result))\n",
        "\n",
        "```\n",
        "return : [2, 4, 6, 8]\n",
        "\n",
        "3. Python Lambda Functions are anonymous function means that the function is without a name. As we already know that the def keyword is used to define a normal function in Python. Similarly, the lambda keyword is used to define an anonymous function in Python.\n",
        "\n",
        "Syntax : `lambda arguments : expression`\n",
        "* This function can have any number of arguments but only one expression, which is evaluated and returned.\n",
        "\n",
        "* One is free to use lambda functions wherever function objects are required.\n",
        "\n",
        "* You need to keep in your knowledge that lambda functions are syntactically restricted to a single expression.\n",
        "\n",
        "* It has various uses in particular fields of programming, besides other types of expressions in functions.\n",
        "\n",
        "4. %M = Minute 00-59\n",
        "\n",
        "5. *N = for unpack N list\n",
        "\n",
        "\n",
        "\n"
      ],
      "metadata": {
        "id": "FiV1iYGNLjk1"
      }
    },
    {
      "cell_type": "code",
      "source": [
        "from itertools import product\n",
        "\n",
        "K, M = map(int,input().split())\n",
        "N = (list(map(int, input().split()))[1:] for _ in range(K))\n",
        "results = map(lambda x: sum(i**2 for i in x)%M, product(*N))\n",
        "print(max(results))"
      ],
      "metadata": {
        "id": "OuWvsMFvLAFR"
      },
      "execution_count": null,
      "outputs": []
    }
  ]
}